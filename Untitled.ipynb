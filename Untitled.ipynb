{
 "cells": [
  {
   "cell_type": "code",
   "execution_count": 1,
   "id": "c71589d8-317d-4a24-84d4-f65fa7d873ec",
   "metadata": {},
   "outputs": [
    {
     "name": "stdout",
     "output_type": "stream",
     "text": [
      "Requirement already satisfied: numpy in c:\\users\\mark m\\appdata\\local\\programs\\python\\python313\\lib\\site-packages (2.2.3)\n"
     ]
    }
   ],
   "source": [
    "!pip install numpy"
   ]
  },
  {
   "cell_type": "code",
   "execution_count": 2,
   "id": "f6d055ac-b2af-4949-a0f6-1b6cf6602a0b",
   "metadata": {},
   "outputs": [],
   "source": [
    "import numpy as np"
   ]
  },
  {
   "cell_type": "code",
   "execution_count": 6,
   "id": "9e7c5939-a9b9-4cb0-af48-f4fc7e40def1",
   "metadata": {},
   "outputs": [
    {
     "name": "stdout",
     "output_type": "stream",
     "text": [
      "[1 2 3]\n"
     ]
    }
   ],
   "source": [
    "a = np.array([1,2,3])\n",
    "print(a)"
   ]
  },
  {
   "cell_type": "code",
   "execution_count": 5,
   "id": "1378ed49-5663-406b-bc8a-fdaab3e30750",
   "metadata": {},
   "outputs": [
    {
     "name": "stdout",
     "output_type": "stream",
     "text": [
      "[[9 0 8 7 0]\n",
      " [3 5 3 2 5]]\n"
     ]
    }
   ],
   "source": [
    "b=np.array([[9,0,8,7,0],[3,5,3,2,5]])\n",
    "print(b)"
   ]
  },
  {
   "cell_type": "code",
   "execution_count": 7,
   "id": "01e3759c-350d-4dcf-9b8f-d1da71992a67",
   "metadata": {},
   "outputs": [
    {
     "data": {
      "text/plain": [
       "(2, 5)"
      ]
     },
     "execution_count": 7,
     "metadata": {},
     "output_type": "execute_result"
    }
   ],
   "source": [
    "a.shape\n",
    "b.shape"
   ]
  },
  {
   "cell_type": "code",
   "execution_count": 11,
   "id": "8d315421-80fd-41c7-a6b9-cedba76b323f",
   "metadata": {},
   "outputs": [
    {
     "data": {
      "text/plain": [
       "1"
      ]
     },
     "execution_count": 11,
     "metadata": {},
     "output_type": "execute_result"
    }
   ],
   "source": [
    "# get dimension\n",
    "a.ndim"
   ]
  },
  {
   "cell_type": "code",
   "execution_count": 12,
   "id": "5410841e-f3db-4f78-ac39-be1ae5e0f815",
   "metadata": {},
   "outputs": [
    {
     "data": {
      "text/plain": [
       "dtype('int64')"
      ]
     },
     "execution_count": 12,
     "metadata": {},
     "output_type": "execute_result"
    }
   ],
   "source": [
    "# get type\n",
    "a.dtype"
   ]
  },
  {
   "cell_type": "code",
   "execution_count": 13,
   "id": "2168b7ba-c403-4d43-8d40-f7d5fcfbff5c",
   "metadata": {},
   "outputs": [
    {
     "data": {
      "text/plain": [
       "8"
      ]
     },
     "execution_count": 13,
     "metadata": {},
     "output_type": "execute_result"
    }
   ],
   "source": [
    "# get size\n",
    "a.itemsize"
   ]
  },
  {
   "cell_type": "code",
   "execution_count": 14,
   "id": "85daa91c-f30d-4418-9faf-d06e0bd073fd",
   "metadata": {},
   "outputs": [
    {
     "name": "stdout",
     "output_type": "stream",
     "text": [
      "[[ 1  2  3  4  5  6  7]\n",
      " [ 8  9 10 11 12 13 14]]\n"
     ]
    }
   ],
   "source": [
    "# Accesing /changing specific elements,rows,columns, etc\n",
    "\n",
    "a = np.array([[1,2,3,4,5,6,7],[8,9,10,11,12,13,14]])\n",
    "print(a)"
   ]
  },
  {
   "cell_type": "code",
   "execution_count": 15,
   "id": "9ab4bd4c-095e-424f-a5e1-0b4e9cbdf141",
   "metadata": {},
   "outputs": [
    {
     "data": {
      "text/plain": [
       "(2, 7)"
      ]
     },
     "execution_count": 15,
     "metadata": {},
     "output_type": "execute_result"
    }
   ],
   "source": [
    "a.shape"
   ]
  },
  {
   "cell_type": "code",
   "execution_count": 16,
   "id": "ea13d025-c029-4f7b-8b9b-879c5c935f8e",
   "metadata": {},
   "outputs": [
    {
     "data": {
      "text/plain": [
       "np.int64(13)"
      ]
     },
     "execution_count": 16,
     "metadata": {},
     "output_type": "execute_result"
    }
   ],
   "source": [
    "# get specific element[r,c]\n",
    "a[1,5]"
   ]
  },
  {
   "cell_type": "code",
   "execution_count": 18,
   "id": "2c87d21e-5c96-4beb-90ed-311cca20a448",
   "metadata": {},
   "outputs": [
    {
     "data": {
      "text/plain": [
       "array([1, 2, 3, 4, 5, 6, 7])"
      ]
     },
     "execution_count": 18,
     "metadata": {},
     "output_type": "execute_result"
    }
   ],
   "source": [
    "# specific row\n",
    "a[0,:]"
   ]
  },
  {
   "cell_type": "code",
   "execution_count": 19,
   "id": "bdb6d6a2-7675-4390-affa-0573811091dc",
   "metadata": {},
   "outputs": [
    {
     "data": {
      "text/plain": [
       "array([ 3, 10])"
      ]
     },
     "execution_count": 19,
     "metadata": {},
     "output_type": "execute_result"
    }
   ],
   "source": [
    "# specific column\n",
    "a[:,2]"
   ]
  },
  {
   "cell_type": "code",
   "execution_count": 21,
   "id": "91645fad-7870-4fb1-a4c5-9875f951754f",
   "metadata": {},
   "outputs": [
    {
     "data": {
      "text/plain": [
       "array([1, 3, 5])"
      ]
     },
     "execution_count": 21,
     "metadata": {},
     "output_type": "execute_result"
    }
   ],
   "source": [
    "# getting a little more fancy (startindex:step size)\n",
    "a[0,0:6:2]"
   ]
  },
  {
   "cell_type": "code",
   "execution_count": 24,
   "id": "50e5d420-ba6a-427a-8f00-a7029e3ff85b",
   "metadata": {},
   "outputs": [
    {
     "name": "stdout",
     "output_type": "stream",
     "text": [
      "[[ 1  2  3  4  5  6  7]\n",
      " [ 8  9 10 11 12 20 14]]\n"
     ]
    }
   ],
   "source": [
    "a[1,5] = 20\n",
    "print(a)"
   ]
  },
  {
   "cell_type": "code",
   "execution_count": 25,
   "id": "d371fb33-7921-487d-9d01-ecee197e08ba",
   "metadata": {},
   "outputs": [
    {
     "data": {
      "text/plain": [
       "array([[0.10891873, 0.77780949],\n",
       "       [0.9529951 , 0.52046849],\n",
       "       [0.16761171, 0.60323193],\n",
       "       [0.98423573, 0.37998084]])"
      ]
     },
     "execution_count": 25,
     "metadata": {},
     "output_type": "execute_result"
    }
   ],
   "source": [
    "# get random arrays\n",
    "np.random.rand(4,2)"
   ]
  },
  {
   "cell_type": "code",
   "execution_count": 28,
   "id": "e92bb148-dc24-4b44-b412-9351481b3989",
   "metadata": {},
   "outputs": [
    {
     "data": {
      "text/plain": [
       "array([[2, 3, 1],\n",
       "       [6, 6, 4],\n",
       "       [4, 0, 0]], dtype=int32)"
      ]
     },
     "execution_count": 28,
     "metadata": {},
     "output_type": "execute_result"
    }
   ],
   "source": [
    "np.random.randint(7,size=(3,3))"
   ]
  },
  {
   "cell_type": "code",
   "execution_count": 29,
   "id": "c5e30994-0566-486d-8a93-c6255bfa467b",
   "metadata": {},
   "outputs": [
    {
     "data": {
      "text/plain": [
       "array([[1., 0., 0.],\n",
       "       [0., 1., 0.],\n",
       "       [0., 0., 1.]])"
      ]
     },
     "execution_count": 29,
     "metadata": {},
     "output_type": "execute_result"
    }
   ],
   "source": [
    "# get identity matrix\n",
    "np.identity(3)"
   ]
  },
  {
   "cell_type": "code",
   "execution_count": 37,
   "id": "fb3fdb86-fdcb-418b-bab4-a756860e7662",
   "metadata": {},
   "outputs": [
    {
     "name": "stdout",
     "output_type": "stream",
     "text": [
      "[[1. 1. 1. 1. 1.]\n",
      " [1. 1. 1. 1. 1.]\n",
      " [1. 1. 1. 1. 1.]\n",
      " [1. 1. 1. 1. 1.]\n",
      " [1. 1. 1. 1. 1.]]\n",
      "[[0. 0. 0.]\n",
      " [0. 9. 0.]\n",
      " [0. 0. 0.]]\n",
      "[[1. 1. 1. 1. 1.]\n",
      " [1. 0. 0. 0. 1.]\n",
      " [1. 0. 9. 0. 1.]\n",
      " [1. 0. 0. 0. 1.]\n",
      " [1. 1. 1. 1. 1.]]\n"
     ]
    }
   ],
   "source": [
    "output = np.ones((5,5))\n",
    "print (output)\n",
    "\n",
    "z= np.zeros((3,3))\n",
    "z[1,1]=9\n",
    "print(z)\n",
    "\n",
    "output[1:4,1:4] = z\n",
    "print(output)\n",
    "\n"
   ]
  },
  {
   "cell_type": "code",
   "execution_count": 40,
   "id": "5553a3e8-1f38-4fa7-a8d5-b0f647c7320a",
   "metadata": {},
   "outputs": [
    {
     "data": {
      "text/plain": [
       "array([1, 2, 3])"
      ]
     },
     "execution_count": 40,
     "metadata": {},
     "output_type": "execute_result"
    }
   ],
   "source": [
    "a = np.array([1,2,3])\n",
    "b=a.copy() #copy an array\n",
    "b"
   ]
  },
  {
   "cell_type": "markdown",
   "id": "df1a60a7-ac0f-4e4c-8e04-309b02e6ecd6",
   "metadata": {},
   "source": [
    "💡 Challenge: NumPy Array Manipulation\n",
    "Create a NumPy array of shape (5, 5) filled with random integers between 10 and 50.\n",
    "\n",
    "Replace all even numbers in the array with 0.\n",
    "\n",
    "Extract all numbers greater than 25 into a separate 1D array.\n",
    "\n",
    "Check if the resulting array is stored in contiguous memory.\n",
    "\n",
    "Finally, calculate the mean and standard deviation of the array (after even numbers were replaced)."
   ]
  },
  {
   "cell_type": "code",
   "execution_count": 60,
   "id": "e96faeee-ea20-40ce-a94c-5c4dce11829d",
   "metadata": {},
   "outputs": [
    {
     "name": "stdout",
     "output_type": "stream",
     "text": [
      "[[16 27 32 28 34]\n",
      " [47 21 34 23 25]\n",
      " [17 20 12 10 33]\n",
      " [37 41 21 24 18]\n",
      " [21 28 28 40 29]]\n",
      "------------------------------------------------------\n",
      "[[ 0 27  0  0  0]\n",
      " [47 21  0 23 25]\n",
      " [17  0  0  0 33]\n",
      " [37 41 21  0  0]\n",
      " [21  0  0  0 29]]\n",
      "------------------------------------------------------\n",
      "[27 47 33 37 41 29]\n",
      "------------------------------------------------------\n",
      "  C_CONTIGUOUS : True\n",
      "  F_CONTIGUOUS : True\n",
      "  OWNDATA : True\n",
      "  WRITEABLE : True\n",
      "  ALIGNED : True\n",
      "  WRITEBACKIFCOPY : False\n",
      "\n",
      "------------------------------------------------------\n",
      "Mean:13.68\n",
      "Std:15.50\n",
      "------------------------------------------------------\n"
     ]
    }
   ],
   "source": [
    "# Create a NumPy array of shape (5, 5) filled with random integers between 10 and 50.\n",
    "a = np.random.randint(10,50,size=(5,5),dtype=int)\n",
    "print(a)\n",
    "print(\"------------------------------------------------------\")\n",
    "# Replace all even numbers in the array with 0.\n",
    "a[a%2 == 0] = 0\n",
    "print(a)\n",
    "print(\"------------------------------------------------------\")\n",
    "# Extract all numbers greater than 25 into a separate 1D array.\n",
    "one_d = a[a>25]\n",
    "print(one_d)\n",
    "print(\"------------------------------------------------------\")\n",
    "# Check if the resulting array is stored in contiguous memory.\n",
    "print(one_d.flags)\n",
    "print(\"------------------------------------------------------\")\n",
    "# Finally, calculate the mean and standard deviation of the array\n",
    "# (after even numbers were replaced).\n",
    "mean_a = a.mean()\n",
    "std_a = a.std()\n",
    "print(f'Mean:{mean_a}')\n",
    "print(f'Std:{std_a:.2f}')\n",
    "print(\"------------------------------------------------------\")"
   ]
  },
  {
   "cell_type": "code",
   "execution_count": null,
   "id": "9e82b696-afca-484a-a9f2-360c1eda8f58",
   "metadata": {},
   "outputs": [],
   "source": []
  }
 ],
 "metadata": {
  "kernelspec": {
   "display_name": "Python 3 (ipykernel)",
   "language": "python",
   "name": "python3"
  },
  "language_info": {
   "codemirror_mode": {
    "name": "ipython",
    "version": 3
   },
   "file_extension": ".py",
   "mimetype": "text/x-python",
   "name": "python",
   "nbconvert_exporter": "python",
   "pygments_lexer": "ipython3",
   "version": "3.13.2"
  }
 },
 "nbformat": 4,
 "nbformat_minor": 5
}
